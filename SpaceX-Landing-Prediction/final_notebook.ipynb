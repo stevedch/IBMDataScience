{
 "cells": [
  {
   "cell_type": "code",
   "id": "initial_id",
   "metadata": {
    "collapsed": true,
    "ExecuteTime": {
     "end_time": "2025-05-19T00:54:39.162305Z",
     "start_time": "2025-05-19T00:54:37.566274Z"
    }
   },
   "source": "!pip install folium",
   "outputs": [
    {
     "name": "stdout",
     "output_type": "stream",
     "text": [
      "Collecting folium\r\n",
      "  Downloading folium-0.19.6-py2.py3-none-any.whl.metadata (4.1 kB)\r\n",
      "Collecting branca>=0.6.0 (from folium)\r\n",
      "  Downloading branca-0.8.1-py3-none-any.whl.metadata (1.5 kB)\r\n",
      "Requirement already satisfied: jinja2>=2.9 in /Users/sdelgadc/miniconda3/lib/python3.12/site-packages (from folium) (3.1.6)\r\n",
      "Requirement already satisfied: numpy in /Users/sdelgadc/miniconda3/lib/python3.12/site-packages (from folium) (2.2.4)\r\n",
      "Requirement already satisfied: requests in /Users/sdelgadc/miniconda3/lib/python3.12/site-packages (from folium) (2.32.3)\r\n",
      "Collecting xyzservices (from folium)\r\n",
      "  Downloading xyzservices-2025.4.0-py3-none-any.whl.metadata (4.3 kB)\r\n",
      "Requirement already satisfied: MarkupSafe>=2.0 in /Users/sdelgadc/miniconda3/lib/python3.12/site-packages (from jinja2>=2.9->folium) (3.0.2)\r\n",
      "Requirement already satisfied: charset-normalizer<4,>=2 in /Users/sdelgadc/miniconda3/lib/python3.12/site-packages (from requests->folium) (3.3.2)\r\n",
      "Requirement already satisfied: idna<4,>=2.5 in /Users/sdelgadc/miniconda3/lib/python3.12/site-packages (from requests->folium) (3.7)\r\n",
      "Requirement already satisfied: urllib3<3,>=1.21.1 in /Users/sdelgadc/miniconda3/lib/python3.12/site-packages (from requests->folium) (2.2.2)\r\n",
      "Requirement already satisfied: certifi>=2017.4.17 in /Users/sdelgadc/miniconda3/lib/python3.12/site-packages (from requests->folium) (2025.4.26)\r\n",
      "Downloading folium-0.19.6-py2.py3-none-any.whl (112 kB)\r\n",
      "Downloading branca-0.8.1-py3-none-any.whl (26 kB)\r\n",
      "Downloading xyzservices-2025.4.0-py3-none-any.whl (90 kB)\r\n",
      "Installing collected packages: xyzservices, branca, folium\r\n",
      "Successfully installed branca-0.8.1 folium-0.19.6 xyzservices-2025.4.0\r\n"
     ]
    }
   ],
   "execution_count": 5
  }
 ],
 "metadata": {
  "kernelspec": {
   "display_name": "Python 3",
   "language": "python",
   "name": "python3"
  },
  "language_info": {
   "codemirror_mode": {
    "name": "ipython",
    "version": 2
   },
   "file_extension": ".py",
   "mimetype": "text/x-python",
   "name": "python",
   "nbconvert_exporter": "python",
   "pygments_lexer": "ipython2",
   "version": "2.7.6"
  }
 },
 "nbformat": 4,
 "nbformat_minor": 5
}
